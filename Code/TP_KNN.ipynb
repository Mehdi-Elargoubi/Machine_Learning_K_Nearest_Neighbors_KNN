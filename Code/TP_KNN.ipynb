{
 "cells": [
  {
   "cell_type": "markdown",
   "metadata": {},
   "source": [
    "# **TP2 K Plus Proches Voisins**"
   ]
  },
  {
   "cell_type": "markdown",
   "metadata": {},
   "source": [
    "# 1 KNN pour la classification"
   ]
  },
  {
   "cell_type": "markdown",
   "metadata": {},
   "source": [
    "### Tâche 1 : Analyse des données"
   ]
  },
  {
   "cell_type": "code",
   "execution_count": 1,
   "metadata": {},
   "outputs": [],
   "source": [
    "import pandas as pd"
   ]
  },
  {
   "cell_type": "code",
   "execution_count": 4,
   "metadata": {},
   "outputs": [
    {
     "name": "stdout",
     "output_type": "stream",
     "text": [
      "Dimensions du DataFrame : (767, 7)\n",
      "\n",
      "Résumé des données :\n",
      "<class 'pandas.core.frame.DataFrame'>\n",
      "RangeIndex: 767 entries, 0 to 766\n",
      "Data columns (total 7 columns):\n",
      " #   Column                    Non-Null Count  Dtype  \n",
      "---  ------                    --------------  -----  \n",
      " 0   Glucose                   767 non-null    int64  \n",
      " 1   BloodPressure             767 non-null    int64  \n",
      " 2   Insulin                   767 non-null    int64  \n",
      " 3   BMI                       767 non-null    float64\n",
      " 4   DiabetesPedigreeFunction  767 non-null    float64\n",
      " 5   Age                       767 non-null    int64  \n",
      " 6   Outcome                   767 non-null    int64  \n",
      "dtypes: float64(2), int64(5)\n",
      "memory usage: 42.1 KB\n",
      "\n",
      "Statistiques descriptives :\n",
      "          Glucose  BloodPressure     Insulin         BMI  \\\n",
      "count  767.000000     767.000000  767.000000  767.000000   \n",
      "mean   120.930900      69.104302   79.903520   31.994654   \n",
      "std     31.977581      19.368410  115.283105    7.889095   \n",
      "min      0.000000       0.000000    0.000000    0.000000   \n",
      "25%     99.000000      62.000000    0.000000   27.300000   \n",
      "50%    117.000000      72.000000   32.000000   32.000000   \n",
      "75%    140.500000      80.000000  127.500000   36.600000   \n",
      "max    199.000000     122.000000  846.000000   67.100000   \n",
      "\n",
      "       DiabetesPedigreeFunction         Age     Outcome  \n",
      "count                767.000000  767.000000  767.000000  \n",
      "mean                   0.472081   33.254237    0.349413  \n",
      "std                    0.331496   11.762079    0.477096  \n",
      "min                    0.078000   21.000000    0.000000  \n",
      "25%                    0.243500   24.000000    0.000000  \n",
      "50%                    0.374000   29.000000    0.000000  \n",
      "75%                    0.626500   41.000000    1.000000  \n",
      "max                    2.420000   81.000000    1.000000  \n",
      "\n",
      "Distribution des classes :\n",
      "Outcome\n",
      "0    499\n",
      "1    268\n",
      "Name: count, dtype: int64\n",
      "\n",
      "Nombre de caractéristiques descriptives et leurs types :\n",
      "Glucose                       int64\n",
      "BloodPressure                 int64\n",
      "Insulin                       int64\n",
      "BMI                         float64\n",
      "DiabetesPedigreeFunction    float64\n",
      "Age                           int64\n",
      "Outcome                       int64\n",
      "dtype: object\n"
     ]
    }
   ],
   "source": [
    "# Charger le fichier\n",
    "df = pd.read_csv('../diabetes.csv')\n",
    "\n",
    "# 1. Dimensions du DataFrame\n",
    "print(\"Dimensions du DataFrame :\", df.shape)\n",
    "\n",
    "# 2. Résumé des données\n",
    "print(\"\\nRésumé des données :\")\n",
    "df.info()\n",
    "\n",
    "# 3. Statistiques descriptives\n",
    "print(\"\\nStatistiques descriptives :\")\n",
    "print(df.describe())\n",
    "\n",
    "# 4. Distribution des classes\n",
    "print(\"\\nDistribution des classes :\")\n",
    "print(df['Outcome'].value_counts())\n",
    "\n",
    "# 5. Nombre de caractéristiques descriptives\n",
    "print(\"\\nNombre de caractéristiques descriptives et leurs types :\")\n",
    "print(df.dtypes)"
   ]
  },
  {
   "cell_type": "markdown",
   "metadata": {},
   "source": [
    "### Interprétation des résultats\n",
    "\n",
    "###### Combien de classes sont présentes dans la base de données ?\n",
    "    La colonne Outcome représente les classes :\n",
    "    -> 0 pour les personnes non diabétiques.\n",
    "    -> 1 pour les personnes diabétiques.\n",
    "    Il y a 2 classes distinctes dans la base de données.\n",
    "\n",
    "###### Combien de caractéristiques descriptives et de quels types ?\n",
    "    Le DataFrame contient 7 colonnes, dont 6 colonnes sont des caractéristiques descriptives utilisées pour prédire le Outcome (la classe cible).\n",
    "\n",
    "###### Combien d’exemples dans la base de données ? Et par classe ?\n",
    "    -> Le DataFrame contient 767 exemples au total.\n",
    "    -> Distribution par classe :\n",
    "       - 499 exemples pour la classe 0 (non diabétique).\n",
    "       - 268 exemples pour la classe 1 (diabétique)."
   ]
  }
 ],
 "metadata": {
  "kernelspec": {
   "display_name": "Python 3",
   "language": "python",
   "name": "python3"
  },
  "language_info": {
   "codemirror_mode": {
    "name": "ipython",
    "version": 3
   },
   "file_extension": ".py",
   "mimetype": "text/x-python",
   "name": "python",
   "nbconvert_exporter": "python",
   "pygments_lexer": "ipython3",
   "version": "3.12.7"
  }
 },
 "nbformat": 4,
 "nbformat_minor": 2
}
