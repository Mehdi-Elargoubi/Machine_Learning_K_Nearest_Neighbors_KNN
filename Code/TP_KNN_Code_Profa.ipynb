{
 "cells": [
  {
   "cell_type": "code",
   "execution_count": 4,
   "metadata": {
    "id": "dkdjp3HVjA6f"
   },
   "outputs": [],
   "source": [
    "import pandas as pd\n",
    "import numpy as np\n",
    "import matplotlib.pyplot as plt\n",
    "from sklearn.neighbors import KNeighborsClassifier\n",
    "from sklearn.metrics import confusion_matrix, accuracy_score\n",
    "import matplotlib.pyplot as plt\n",
    "#import seaborn as sns"
   ]
  },
  {
   "cell_type": "code",
   "execution_count": 6,
   "metadata": {
    "colab": {
     "base_uri": "https://localhost:8080/"
    },
    "id": "SRGrBrWZjKd_",
    "outputId": "b5dbcc77-879b-4f93-db49-9db6e9c76688"
   },
   "outputs": [
    {
     "name": "stdout",
     "output_type": "stream",
     "text": [
      "Dimensions du DataFrame : (767, 7)\n",
      "Head du DataFrame :    Glucose  BloodPressure  Insulin   BMI  DiabetesPedigreeFunction  Age  \\\n",
      "0      148             72        0  33.6                     0.627   50   \n",
      "1       85             66        0  26.6                     0.351   31   \n",
      "2      183             64        0  23.3                     0.672   32   \n",
      "3       89             66       94  28.1                     0.167   21   \n",
      "4      137             40      168  43.1                     2.288   33   \n",
      "\n",
      "   Outcome  \n",
      "0        1  \n",
      "1        0  \n",
      "2        1  \n",
      "3        0  \n",
      "4        1  \n",
      "[1 0]\n",
      "\n",
      "Distribution des classes :\n",
      "Outcome\n",
      "0    499\n",
      "1    268\n",
      "Name: count, dtype: int64\n",
      "\n",
      "Résumé des données :\n",
      "<class 'pandas.core.frame.DataFrame'>\n",
      "RangeIndex: 767 entries, 0 to 766\n",
      "Data columns (total 7 columns):\n",
      " #   Column                    Non-Null Count  Dtype  \n",
      "---  ------                    --------------  -----  \n",
      " 0   Glucose                   767 non-null    int64  \n",
      " 1   BloodPressure             767 non-null    int64  \n",
      " 2   Insulin                   767 non-null    int64  \n",
      " 3   BMI                       767 non-null    float64\n",
      " 4   DiabetesPedigreeFunction  767 non-null    float64\n",
      " 5   Age                       767 non-null    int64  \n",
      " 6   Outcome                   767 non-null    int64  \n",
      "dtypes: float64(2), int64(5)\n",
      "memory usage: 42.1 KB\n"
     ]
    }
   ],
   "source": [
    "# Charger le fichier\n",
    "df = pd.read_csv('../diabetes.csv')\n",
    "\n",
    "print(\"Dimensions du DataFrame :\", df.shape)\n",
    "print(\"Head du DataFrame :\", df.head())\n",
    "\n",
    "print(df['Outcome'].unique())\n",
    "\n",
    "print(\"\\nDistribution des classes :\")\n",
    "print(df['Outcome'].value_counts())\n",
    "\n",
    "# 2. Résumé des données\n",
    "print(\"\\nRésumé des données :\")\n",
    "df.info()"
   ]
  },
  {
   "cell_type": "code",
   "execution_count": 7,
   "metadata": {
    "id": "GsENHVn4lBI1"
   },
   "outputs": [],
   "source": [
    "from sklearn.model_selection import train_test_split\n",
    "from sklearn.preprocessing import StandardScaler\n",
    "from sklearn.metrics import classification_report"
   ]
  },
  {
   "cell_type": "code",
   "execution_count": 8,
   "metadata": {
    "colab": {
     "base_uri": "https://localhost:8080/"
    },
    "id": "5gNXEcCkogGw",
    "outputId": "4a89a2d9-1a99-4d57-a338-1416b6e5b7b8"
   },
   "outputs": [
    {
     "name": "stdout",
     "output_type": "stream",
     "text": [
      "Model (k3) : [train: 0.8323586744639376, test: 0.7401574803149606]\n",
      "[[137  28]\n",
      " [ 38  51]]\n",
      "              precision    recall  f1-score   support\n",
      "\n",
      "           0       0.78      0.83      0.81       165\n",
      "           1       0.65      0.57      0.61        89\n",
      "\n",
      "    accuracy                           0.74       254\n",
      "   macro avg       0.71      0.70      0.71       254\n",
      "weighted avg       0.73      0.74      0.74       254\n",
      "\n"
     ]
    }
   ],
   "source": [
    "cible = 'Outcome'\n",
    "caracteristiques = list(df.columns)\n",
    "caracteristiques.remove(cible)\n",
    "\n",
    "X = df[caracteristiques]\n",
    "y = df[cible]\n",
    "\n",
    "# Standardiser les variables descriptives / caractéristiques / features\n",
    "scaler = StandardScaler()\n",
    "scaler.fit(X)\n",
    "X_Scaled = scaler.transform(X)\n",
    "\n",
    "X_train, X_test, y_train, y_test = train_test_split(X_Scaled, y, test_size=0.33, random_state=42, stratify=y)\n",
    "#print(X_train.shape)\n",
    "#print(X_test.shape)\n",
    "#print(y_train.shape)\n",
    "#print(y_test.shape)\n",
    "\n",
    "k=3\n",
    "model = KNeighborsClassifier(n_neighbors=k)\n",
    "model.fit(X_train, y_train)\n",
    "y_train_pred = model.predict(X_train) # print(accuracy_score(y_train, y_train_pred))\n",
    "y_test_pred = model.predict(X_test) # print(accuracy_score(y_test, y_test_pred))\n",
    "precision_train = accuracy_score(y_train, y_train_pred) # print(accuracy_score(y_train, y_train_pred))\n",
    "precision_test = accuracy_score(y_test, y_test_pred) # print(\"Précision sur le test :\", precision_test)\n",
    "\n",
    "print(\"Model (k{}) : [train: {}, test: {}]\".format(k, precision_train, precision_test))\n",
    "\n",
    "matrice = confusion_matrix(y_test, y_test_pred)\n",
    "print(matrice)\n",
    "rapport = classification_report(y_test, y_test_pred)\n",
    "print(rapport)"
   ]
  }
 ],
 "metadata": {
  "colab": {
   "provenance": []
  },
  "kernelspec": {
   "display_name": "Python 3",
   "language": "python",
   "name": "python3"
  },
  "language_info": {
   "codemirror_mode": {
    "name": "ipython",
    "version": 3
   },
   "file_extension": ".py",
   "mimetype": "text/x-python",
   "name": "python",
   "nbconvert_exporter": "python",
   "pygments_lexer": "ipython3",
   "version": "3.12.7"
  }
 },
 "nbformat": 4,
 "nbformat_minor": 0
}
